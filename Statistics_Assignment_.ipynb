{
  "nbformat": 4,
  "nbformat_minor": 0,
  "metadata": {
    "colab": {
      "provenance": []
    },
    "kernelspec": {
      "name": "python3",
      "display_name": "Python 3"
    },
    "language_info": {
      "name": "python"
    }
  },
  "cells": [
    {
      "cell_type": "markdown",
      "source": [
        "Full Stack Data Science Pro\n",
        "\n",
        "dhritimalyadutta@gmail.com"
      ],
      "metadata": {
        "id": "2cY-krrJOdEI"
      }
    },
    {
      "cell_type": "markdown",
      "source": [
        "Q1)"
      ],
      "metadata": {
        "id": "R2poi4iJEXmU"
      }
    },
    {
      "cell_type": "code",
      "source": [
        "import numpy as np\n",
        "import matplotlib.pyplot as plt\n",
        "from statistics import mean, median, mode, variance, stdev, median_high, median_low, geometric_mean, harmonic_mean, median_grouped\n",
        "from scipy.stats import norm # import the required module\n",
        "\n",
        "# Generate a list of 100 integers containing values between 90 to 130\n",
        "int_list = np.random.randint(90, 131, 100)\n",
        "\n",
        "# (i) Calculate mean and median\n",
        "def calculate_mean(numbers):\n",
        "    return mean(numbers)\n",
        "\n",
        "def calculate_median(numbers):\n",
        "    return median(numbers)\n",
        "\n",
        "mean_value = calculate_mean(int_list)\n",
        "median_value = calculate_median(int_list)\n",
        "\n",
        "print(\"Mean:\", mean_value)\n",
        "print(\"Median:\", median_value)\n",
        "\n",
        "# (ii) Calculate mode\n",
        "mode_value = mode(int_list)\n",
        "print(\"Mode:\", mode_value)\n",
        "\n",
        "# (iii) Calculate weighted mean\n",
        "weights = np.random.randint(1, 5, 100)  # Sample weights\n",
        "\n",
        "def calculate_weighted_mean(values, weights):\n",
        "    return sum(value * weight for value, weight in zip(values, weights)) / sum(weights)\n",
        "\n",
        "weighted_mean = calculate_weighted_mean(int_list, weights)\n",
        "print(\"Weighted Mean:\", weighted_mean)\n",
        "\n",
        "# (iv) Calculate geometric mean\n",
        "def calculate_geometric_mean(numbers):\n",
        "    return geometric_mean(numbers)\n",
        "\n",
        "geometric_mean = calculate_geometric_mean(int_list)\n",
        "print(\"Geometric Mean:\", geometric_mean)\n",
        "\n",
        "# (v) Calculate harmonic mean\n",
        "def calculate_harmonic_mean(numbers):\n",
        "    return harmonic_mean(numbers)\n",
        "\n",
        "harmonic_mean = calculate_harmonic_mean(int_list)\n",
        "print(\"Harmonic Mean:\", harmonic_mean)\n",
        "\n",
        "# (vi) Calculate midrange\n",
        "def calculate_midrange(numbers):\n",
        "    return (min(numbers) + max(numbers)) / 2\n",
        "\n",
        "midrange = calculate_midrange(int_list)\n",
        "print(\"Midrange:\", midrange)\n",
        "\n",
        "# (vii) Calculate trimmed mean (excluding 10% outliers)\n",
        "trimmed_mean = mean(int_list[int(0.1 * len(int_list)):int(0.9 * len(int_list))])\n",
        "print(\"Trimmed Mean:\", trimmed_mean)\n",
        "\n",
        "# Generate a list of 500 integers between 200 and 300\n",
        "int_list2 = np.random.randint(200, 301, 500)\n",
        "\n",
        "# (i) Compare visualizations\n",
        "# Frequency and Gaussian distribution\n",
        "plt.hist(int_list2, bins=30, density=True, alpha=0.6)\n",
        "x = np.linspace(min(int_list2), max(int_list2), 100)\n",
        "y = norm.pdf(x, mean(int_list2), stdev(int_list2)) # call norm from scipy.stats\n",
        "plt.plot(x, y, color='red', lw=2)\n",
        "plt.title(\"Frequency and Gaussian Distribution\")\n",
        "plt.xlabel(\"Value\")\n",
        "plt.ylabel(\"Density\")\n",
        "plt.show()\n",
        "\n",
        "# Frequency smoothened KDE plot\n",
        "kde = gaussian_kde(int_list2) # You will likely encounter an error here as gaussian_kde is not defined\n",
        "x_grid = np.linspace(min(int_list2), max(int_list2), 1000)\n",
        "y_kde = kde(x_grid)\n",
        "plt.plot(x_grid, y_kde)\n",
        "plt.title(\"Frequency Smoothed KDE Plot\")\n",
        "plt.xlabel(\"Value\")\n",
        "plt.ylabel(\"Density\")\n",
        "plt.show()\n",
        "\n",
        "# Gaussian distribution & smoothened KDE plot\n",
        "plt.plot(x, y, color='red', lw=2, label=\"Gaussian Distribution\")\n",
        "plt.plot(x_grid, y_kde, label=\"Smoothed KDE\")\n",
        "plt.title(\"Gaussian Distribution & Smoothed KDE Plot\")\n",
        "plt.xlabel(\"Value\")\n",
        "plt.ylabel(\"Density\")\n",
        "plt.legend()\n",
        "plt.show()\n",
        "\n",
        "# (ii) Calculate range\n",
        "def calculate_range(numbers):\n",
        "    return max(numbers) - min(numbers)"
      ],
      "metadata": {
        "id": "7EQ85lNDF6zE"
      },
      "execution_count": null,
      "outputs": []
    },
    {
      "cell_type": "markdown",
      "source": [
        "Q2)"
      ],
      "metadata": {
        "id": "DX9vO-F1Efmu"
      }
    },
    {
      "cell_type": "code",
      "source": [
        "import numpy as np\n",
        "import matplotlib.pyplot as plt\n",
        "from scipy.stats import norm, kde\n",
        "from statistics import mean, median, mode, variance, stdev, median_high, median_low, geometric_mean, harmonic_mean, median_grouped\n",
        "\n",
        "# Generate a list of 500 integers between 200 and 300\n",
        "int_list2 = np.random.randint(200, 301, 500)\n",
        "\n",
        "# (i) Compare visualizations\n",
        "# Frequency and Gaussian distribution\n",
        "plt.hist(int_list2, bins=30, density=True, alpha=0.6)\n",
        "x = np.linspace(min(int_list2), max(int_list2), 100)\n",
        "y = norm.pdf(x, mean(int_list2), stdev(int_list2))\n",
        "plt.plot(x, y, color='red', lw=2)\n",
        "plt.title(\"Frequency and Gaussian Distribution\")\n",
        "plt.xlabel(\"Value\")\n",
        "plt.ylabel(\"Density\")\n",
        "plt.show()\n",
        "\n",
        "# Frequency smoothened KDE plot\n",
        "kde = kde.gaussian_kde(int_list2)\n",
        "x_grid = np.linspace(min(int_list2), max(int_list2), 1000)\n",
        "y_kde = kde(x_grid)\n",
        "plt.plot(x_grid, y_kde)\n",
        "plt.title(\"Frequency Smoothed KDE Plot\")\n",
        "plt.xlabel(\"Value\")\n",
        "plt.ylabel(\"Density\")\n",
        "plt.show()\n",
        "\n",
        "# Gaussian distribution & smoothened KDE plot\n",
        "plt.plot(x, y, color='red', lw=2, label=\"Gaussian Distribution\")\n",
        "plt.plot(x_grid, y_kde, label=\"Smoothed KDE\")\n",
        "plt.title(\"Gaussian Distribution & Smoothed KDE Plot\")\n",
        "plt.xlabel(\"Value\")\n",
        "plt.ylabel(\"Density\")\n",
        "plt.legend()\n",
        "plt.show()\n",
        "\n",
        "# (ii) Calculate range\n",
        "def calculate_range(numbers):\n",
        "    return max(numbers) - min(numbers)\n",
        "\n",
        "range_value = calculate_range(int_list2)\n",
        "print(\"Range:\", range_value)\n",
        "\n",
        "# (iii) Calculate variance and standard deviation\n",
        "variance_value = variance(int_list2)\n",
        "standard_deviation = stdev(int_list2)\n",
        "print(\"Variance:\", variance_value)\n",
        "print(\"Standard Deviation:\", standard_deviation)\n",
        "\n",
        "# (iv) Calculate interquartile range (IQR)\n",
        "q1 = median_low(int_list2)\n",
        "q3 = median_high(int_list2)\n",
        "iqr = q3 - q1\n",
        "print(\"IQR:\", iqr)\n",
        "\n",
        "# (v) Calculate coefficient of variation\n",
        "def calculate_coefficient_of_variation(numbers):\n",
        "    return stdev(numbers) / mean(numbers) * 100\n",
        "\n",
        "coefficient_of_variation = calculate_coefficient_of_variation(int_list2)\n",
        "print(\"Coefficient of Variation:\", coefficient_of_variation)\n",
        "\n",
        "# (vi) Calculate mean absolute deviation (MAD)\n",
        "def calculate_mad(numbers):\n",
        "    median_value = median(numbers)\n",
        "    return sum(abs(value - median_value) for value in numbers) / len(numbers)\n",
        "\n",
        "mad = calculate_mad(int_list2)\n",
        "print(\"MAD:\", mad)\n",
        "\n",
        "# (vii) Calculate quartile deviation\n",
        "quartile_deviation = iqr / 2\n",
        "print(\"Quartile Deviation:\", quartile_deviation)\n",
        "\n",
        "# (viii) Calculate range-based coefficient of dispersion\n",
        "def calculate_range_based_coefficient_of_dispersion(numbers):\n",
        "    return (max(numbers) - min(numbers)) / ((max(numbers) + min(numbers)) / 2)\n",
        "\n",
        "range_based_coefficient_of_dispersion = calculate_range_based_coefficient_of_dispersion(int_list2)\n",
        "print(\"Range-Based Coefficient of Dispersion:\", range_based_coefficient_of_dispersion)"
      ],
      "metadata": {
        "colab": {
          "base_uri": "https://localhost:8080/",
          "height": 1000
        },
        "id": "z_2YippKEg98",
        "outputId": "7d2fafe4-3e88-478d-fac8-0b1c6ee12a80"
      },
      "execution_count": 4,
      "outputs": [
        {
          "output_type": "display_data",
          "data": {
            "text/plain": [
              "<Figure size 640x480 with 1 Axes>"
            ],
            "image/png": "[encoded data removed]"
          },
          "metadata": {}
        },
        {
          "output_type": "stream",
          "name": "stderr",
          "text": [
            "<ipython-input-4-d5f390b4dd0d>:21: DeprecationWarning: Please import `gaussian_kde` from the `scipy.stats` namespace; the `scipy.stats.kde` namespace is deprecated and will be removed in SciPy 2.0.0.\n",
            "  kde = kde.gaussian_kde(int_list2)\n"
          ]
        },
        {
          "output_type": "display_data",
          "data": {
            "text/plain": [
              "<Figure size 640x480 with 1 Axes>"
            ],
            "image/png": "[encoded data removed]"
          },
          "metadata": {}
        },
        {
          "output_type": "display_data",
          "data": {
            "text/plain": [
              "<Figure size 640x480 with 1 Axes>"
            ],
            "image/png": "[encoded data removed]"
          },
          "metadata": {}
        },
        {
          "output_type": "stream",
          "name": "stdout",
          "text": [
            "Range: 100\n",
            "Variance: 856\n",
            "Standard Deviation: 29.257477676655586\n",
            "IQR: 0\n",
            "Coefficient of Variation: 11.749991034801441\n",
            "MAD: 25.416\n",
            "Quartile Deviation: 0.0\n",
            "Range-Based Coefficient of Dispersion: 0.4\n"
          ]
        }
      ]
    },
    {
      "cell_type": "code",
      "source": [
        "3. Write a Python class representing a discrete random variable with methods to calculate its expected value and variance."
      ],
      "metadata": {
        "id": "3rG-GVgiGP2M"
      },
      "execution_count": null,
      "outputs": []
    },
    {
      "cell_type": "code",
      "source": [
        "class DiscreteRandomVariable:\n",
        "    def __init__(self, values, probabilities):\n",
        "        self.values = values\n",
        "        self.probabilities = probabilities\n",
        "\n",
        "    def expected_value(self):\n",
        "        return sum(value * probability for value, probability in zip(self.values, self.probabilities))\n",
        "\n",
        "    def variance(self):\n",
        "        expected_value = self.expected_value()\n",
        "        return sum((value - expected_value)**2 * probability for value, probability in zip(self.values, self.probabilities))"
      ],
      "metadata": {
        "id": "ZCNn8P8xHUG-"
      },
      "execution_count": 5,
      "outputs": []
    },
    {
      "cell_type": "markdown",
      "source": [
        "4. Implement a program to simulate the rolling of a fair six-sided die and calculate the expected value and variance of the outcomes."
      ],
      "metadata": {
        "id": "BAzS5kSfHWUD"
      }
    },
    {
      "cell_type": "code",
      "source": [
        "import random\n",
        "\n",
        "def simulate_dice_rolls(num_rolls):\n",
        "    rolls = [random.randint(1, 6) for _ in range(num_rolls)]\n",
        "    return rolls\n",
        "\n",
        "num_rolls = 10000\n",
        "rolls = simulate_dice_rolls(num_rolls)\n",
        "\n",
        "# Create a discrete random variable for the die rolls\n",
        "values = [1, 2, 3, 4, 5, 6]\n",
        "probabilities = [1/6] * 6\n",
        "die_variable = DiscreteRandomVariable(values, probabilities)\n",
        "\n",
        "# Calculate expected value and variance\n",
        "expected_value = die_variable.expected_value()\n",
        "variance = die_variable.variance()\n",
        "\n",
        "print(\"Expected value:\", expected_value)\n",
        "print(\"Variance:\", variance)"
      ],
      "metadata": {
        "colab": {
          "base_uri": "https://localhost:8080/"
        },
        "id": "NusxcH5eHZVu",
        "outputId": "53a91d50-d70a-4902-8a0b-ad7efed2f703"
      },
      "execution_count": 6,
      "outputs": [
        {
          "output_type": "stream",
          "name": "stdout",
          "text": [
            "Expected value: 3.5\n",
            "Variance: 2.9166666666666665\n"
          ]
        }
      ]
    },
    {
      "cell_type": "markdown",
      "source": [
        "5. Create a Python function to generate random samples from a given probability distribution (e.g., binomial, Poisson) and calculate their mean and variance."
      ],
      "metadata": {
        "id": "EptCXi7WHbCj"
      }
    },
    {
      "cell_type": "code",
      "source": [
        "import numpy as np\n",
        "\n",
        "def generate_random_samples(distribution, size, *args, **kwargs):\n",
        "    if distribution == \"binomial\":\n",
        "        return np.random.binomial(n=args[0], p=args[1], size=size)\n",
        "    elif distribution == \"poisson\":\n",
        "        return np.random.poisson(lam=args[0], size=size)\n",
        "    else:\n",
        "        raise ValueError(\"Invalid distribution\")\n",
        "\n",
        "def calculate_sample_stats(samples):\n",
        "    sample_mean = np.mean(samples)\n",
        "    sample_variance = np.var(samples)\n",
        "    return sample_mean, sample_variance\n",
        "\n",
        "# Example usage:\n",
        "distribution = \"binomial\"\n",
        "n = 10\n",
        "p = 0.3\n",
        "size = 1000\n",
        "samples = generate_random_samples(distribution, size, n, p)\n",
        "sample_mean, sample_variance = calculate_sample_stats(samples)\n",
        "print(\"Sample mean:\", sample_mean)\n",
        "print(\"Sample variance:\", sample_variance)"
      ],
      "metadata": {
        "colab": {
          "base_uri": "https://localhost:8080/"
        },
        "id": "ZC7QuWX_HeOD",
        "outputId": "8f7809c2-2e74-4ec7-affe-a420702b26d5"
      },
      "execution_count": 7,
      "outputs": [
        {
          "output_type": "stream",
          "name": "stdout",
          "text": [
            "Sample mean: 2.975\n",
            "Sample variance: 2.180375\n"
          ]
        }
      ]
    },
    {
      "cell_type": "markdown",
      "source": [
        "6. Write a Python script to generate random numbers from a Gaussian (normal) distribution and compute the mean, variance, and standard deviation of the samples."
      ],
      "metadata": {
        "id": "jGVvkykBHhSR"
      }
    },
    {
      "cell_type": "code",
      "source": [
        "import numpy as np\n",
        "\n",
        "def generate_gaussian_samples(size, mean=0, std_dev=1):\n",
        "    return np.random.normal(loc=mean, scale=std_dev, size=size)\n",
        "\n",
        "size = 1000\n",
        "mean = 50\n",
        "std_dev = 10\n",
        "samples = generate_gaussian_samples(size, mean, std_dev)\n",
        "\n",
        "sample_mean = np.mean(samples)\n",
        "sample_variance = np.var(samples)\n",
        "sample_std_dev = np.std(samples)\n",
        "\n",
        "print(\"Sample mean:\", sample_mean)\n",
        "print(\"Sample variance:\", sample_variance)\n",
        "print(\"Sample standard deviation:\", sample_std_dev)"
      ],
      "metadata": {
        "colab": {
          "base_uri": "https://localhost:8080/"
        },
        "id": "TjtuGd9vHkyG",
        "outputId": "9c21ee9f-7503-49ed-8e51-d947dd0192d5"
      },
      "execution_count": 8,
      "outputs": [
        {
          "output_type": "stream",
          "name": "stdout",
          "text": [
            "Sample mean: 50.17630153742674\n",
            "Sample variance: 92.93254228675629\n",
            "Sample standard deviation: 9.640152607026316\n"
          ]
        }
      ]
    },
    {
      "cell_type": "markdown",
      "source": [
        "Q7)"
      ],
      "metadata": {
        "id": "auHENpX4Hydl"
      }
    },
    {
      "cell_type": "code",
      "source": [
        "import seaborn as sns\n",
        "import pandas as pd\n",
        "import numpy as np\n",
        "import matplotlib.pyplot as plt\n",
        "\n",
        "# Load the 'tips' dataset\n",
        "tips = sns.load_dataset(\"tips\")\n",
        "\n",
        "# (i) Calculate skewness\n",
        "def calculate_skewness(data):\n",
        "    return data.skew()\n",
        "\n",
        "skewness_total_bill = calculate_skewness(tips[\"total_bill\"])\n",
        "skewness_tip = calculate_skewness(tips[\"tip\"])\n",
        "\n",
        "print(\"Skewness of total_bill:\", skewness_total_bill)\n",
        "print(\"Skewness of tip:\", skewness_tip)\n",
        "\n",
        "# (ii) Determine skewness type\n",
        "def determine_skewness_type(skewness):\n",
        "    if skewness > 0:\n",
        "        return \"Positively skewed\"\n",
        "    elif skewness < 0:\n",
        "        return \"Negatively skewed\"\n",
        "    else:\n",
        "        return \"Approximately symmetric\"\n",
        "\n",
        "skewness_type_total_bill = determine_skewness_type(skewness_total_bill)\n",
        "skewness_type_tip = determine_skewness_type(skewness_tip)\n",
        "\n",
        "print(\"Skewness type of total_bill:\", skewness_type_total_bill)\n",
        "print(\"Skewness type of tip:\", skewness_type_tip)\n",
        "\n",
        "# (iii) Calculate covariance\n",
        "covariance = np.cov(tips[\"total_bill\"], tips[\"tip\"])[0, 1]\n",
        "print(\"Covariance:\", covariance)\n",
        "\n",
        "# (iv) Calculate Pearson correlation coefficient\n",
        "correlation = tips[\"total_bill\"].corr(tips[\"tip\"])\n",
        "print(\"Pearson correlation coefficient:\", correlation)\n",
        "\n",
        "# (v) Visualize correlation using scatter plot\n",
        "plt.scatter(tips[\"total_bill\"], tips[\"tip\"])\n",
        "plt.xlabel(\"Total Bill\")\n",
        "plt.ylabel(\"Tip\")\n",
        "plt.title(\"Correlation between Total Bill and Tip\")\n",
        "plt.show()"
      ],
      "metadata": {
        "colab": {
          "base_uri": "https://localhost:8080/",
          "height": 579
        },
        "id": "MCzrnRHOIBRt",
        "outputId": "d7df1f54-ee14-46f0-99ba-c207ddb16abf"
      },
      "execution_count": 9,
      "outputs": [
        {
          "output_type": "stream",
          "name": "stdout",
          "text": [
            "Skewness of total_bill: 1.1332130376158205\n",
            "Skewness of tip: 1.4654510370979401\n",
            "Skewness type of total_bill: Positively skewed\n",
            "Skewness type of tip: Positively skewed\n",
            "Covariance: 8.323501629224854\n",
            "Pearson correlation coefficient: 0.6757341092113641\n"
          ]
        },
        {
          "output_type": "display_data",
          "data": {
            "text/plain": [
              "<Figure size 640x480 with 1 Axes>"
            ],
            "image/png": "[encoded data removed]"
          },
          "metadata": {}
        }
      ]
    },
    {
      "cell_type": "markdown",
      "source": [
        "Q) 8 , 9 ,10"
      ],
      "metadata": {
        "id": "Iem7lNSqIZCc"
      }
    },
    {
      "cell_type": "code",
      "source": [
        "import numpy as np\n",
        "from scipy.stats import norm, expon, poisson\n",
        "\n",
        "# 8. Calculate the probability density function (PDF) of a continuous random variable for a given normal distribution.\n",
        "def calculate_normal_pdf(x, mean, std_dev):\n",
        "    return norm.pdf(x, loc=mean, scale=std_dev)\n",
        "\n",
        "# Example usage:\n",
        "x = np.linspace(-3, 3, 100)\n",
        "mean = 0\n",
        "std_dev = 1\n",
        "pdf_values = calculate_normal_pdf(x, mean, std_dev)\n",
        "\n",
        "# 9. Calculate the cumulative distribution function (CDF) of exponential distribution.\n",
        "def calculate_exponential_cdf(x, rate):\n",
        "    return expon.cdf(x, scale=1/rate)\n",
        "\n",
        "# Example usage:\n",
        "x = np.linspace(0, 5, 100)\n",
        "rate = 2\n",
        "cdf_values = calculate_exponential_cdf(x, rate)\n",
        "\n",
        "# 10. Calculate the probability mass function (PMF) of Poisson distribution.\n",
        "def calculate_poisson_pmf(k, lam):\n",
        "    return poisson.pmf(k, lam)\n",
        "\n",
        "# Example usage:\n",
        "k_values = np.arange(0, 10)\n",
        "lam = 3\n",
        "pmf_values = calculate_poisson_pmf(k_values, lam)"
      ],
      "metadata": {
        "id": "EsBPLTWzIeRI"
      },
      "execution_count": null,
      "outputs": []
    },
    {
      "cell_type": "markdown",
      "source": [
        "Q11)"
      ],
      "metadata": {
        "id": "ZaGbTd0eIEMn"
      }
    },
    {
      "cell_type": "code",
      "source": [
        "import scipy.stats as stats\n",
        "\n",
        "# Calculate conversion rates\n",
        "old_conversion_rate = 50 / 1000\n",
        "new_conversion_rate = 70 / 1000\n",
        "\n",
        "# Calculate pooled standard error\n",
        "pooled_std_err = np.sqrt((old_conversion_rate * (1 - old_conversion_rate) / 1000) + (new_conversion_rate * (1 - new_conversion_rate) / 1000))\n",
        "\n",
        "# Calculate z-score\n",
        "z_score = (new_conversion_rate - old_conversion_rate) / pooled_std_err\n",
        "\n",
        "# Calculate p-value\n",
        "p_value = stats.norm.cdf(z_score)\n",
        "\n",
        "# Set significance level\n",
        "alpha = 0.05\n",
        "\n",
        "# Compare p-value with alpha\n",
        "if p_value < alpha:\n",
        "    print(\"Reject the null hypothesis. The new layout leads to a higher conversion rate.\")\n",
        "else:\n",
        "    print(\"Fail to reject the null hypothesis. There is no significant difference in conversion rates.\")"
      ],
      "metadata": {
        "colab": {
          "base_uri": "https://localhost:8080/"
        },
        "id": "Z44c53loJoRr",
        "outputId": "37120465-7c56-4aa5-f6f9-8a50e6d27b3b"
      },
      "execution_count": 10,
      "outputs": [
        {
          "output_type": "stream",
          "name": "stdout",
          "text": [
            "Fail to reject the null hypothesis. There is no significant difference in conversion rates.\n"
          ]
        }
      ]
    },
    {
      "cell_type": "markdown",
      "source": [
        "Q12)"
      ],
      "metadata": {
        "id": "wfq0TeaLJsAi"
      }
    },
    {
      "cell_type": "code",
      "source": [
        "import scipy.stats as stats\n",
        "\n",
        "# Example data for before and after program scores\n",
        "before_program = [60, 70, 65, 80, 75] # Added example data\n",
        "after_program = [70, 80, 75, 90, 85] # Added example data\n",
        "\n",
        "# Perform paired t-test\n",
        "t_statistic, p_value = stats.ttest_rel(before_program, after_program)\n",
        "\n",
        "# Set significance level\n",
        "alpha = 0.05\n",
        "\n",
        "# Compare p-value with alpha\n",
        "if p_value < alpha:\n",
        "    print(\"Reject the null hypothesis. The tutoring program improves exam scores.\")\n",
        "else:\n",
        "    print(\"Fail to reject the null hypothesis. There is no significant difference in exam scores.\")"
      ],
      "metadata": {
        "colab": {
          "base_uri": "https://localhost:8080/"
        },
        "id": "DITsFmuOJ3lS",
        "outputId": "9d84af59-6efe-446c-faf8-fb83f32a94eb"
      },
      "execution_count": 12,
      "outputs": [
        {
          "output_type": "stream",
          "name": "stdout",
          "text": [
            "Reject the null hypothesis. The tutoring program improves exam scores.\n"
          ]
        },
        {
          "output_type": "stream",
          "name": "stderr",
          "text": [
            "/usr/local/lib/python3.10/dist-packages/scipy/stats/_axis_nan_policy.py:531: RuntimeWarning: Precision loss occurred in moment calculation due to catastrophic cancellation. This occurs when the data are nearly identical. Results may be unreliable.\n",
            "  res = hypotest_fun_out(*samples, **kwds)\n"
          ]
        }
      ]
    },
    {
      "cell_type": "markdown",
      "source": [
        "Q13)"
      ],
      "metadata": {
        "id": "HwLMkEgqJvHg"
      }
    },
    {
      "cell_type": "code",
      "source": [
        "import scipy.stats as stats\n",
        "\n",
        "# Example data for blood pressure before and after drug\n",
        "before_drug = [150, 140, 160, 155, 145] # Added example data\n",
        "after_drug = [130, 125, 140, 135, 140] # Added example data\n",
        "\n",
        "# Perform paired t-test\n",
        "t_statistic, p_value = stats.ttest_rel(before_drug, after_drug)\n",
        "\n",
        "# Set significance level\n",
        "alpha = 0.05\n",
        "\n",
        "# Compare p-value with alpha\n",
        "if p_value < alpha:\n",
        "    print(\"Reject\")"
      ],
      "metadata": {
        "colab": {
          "base_uri": "https://localhost:8080/"
        },
        "id": "Pf_RdgIMKC5M",
        "outputId": "ce139b4c-389a-4d69-d130-ebc8c5be9ab6"
      },
      "execution_count": 15,
      "outputs": [
        {
          "output_type": "stream",
          "name": "stdout",
          "text": [
            "Reject\n"
          ]
        }
      ]
    },
    {
      "cell_type": "markdown",
      "source": [
        "Q14)"
      ],
      "metadata": {
        "id": "oOGO-PnlKMPi"
      }
    },
    {
      "cell_type": "code",
      "source": [
        "import scipy.stats as stats\n",
        "\n",
        "# Example data for response times\n",
        "response_times = [4, 3, 5, 4, 2, 3, 4, 4, 5, 3] # Added example data\n",
        "\n",
        "# Perform one-sample t-test\n",
        "t_statistic, p_value = stats.ttest_1samp(response_times, 5, alternative='less')\n",
        "\n",
        "# Set significance level\n",
        "alpha = 0.05\n",
        "\n",
        "# Compare p-value with alpha\n",
        "if p_value < alpha:\n",
        "    print(\"Reject the null hypothesis. The average response time is less than 5 minutes.\")\n",
        "else:\n",
        "    print(\"Fail to reject the null hypothesis. There is no significant difference in response time.\")"
      ],
      "metadata": {
        "colab": {
          "base_uri": "https://localhost:8080/"
        },
        "id": "GF6kGTsQKrjb",
        "outputId": "498babe7-9ab7-44d5-e24e-dfffcc38480d"
      },
      "execution_count": 17,
      "outputs": [
        {
          "output_type": "stream",
          "name": "stdout",
          "text": [
            "Reject the null hypothesis. The average response time is less than 5 minutes.\n"
          ]
        }
      ]
    },
    {
      "cell_type": "markdown",
      "source": [
        "Q15)"
      ],
      "metadata": {
        "id": "7U3YGOF4Kum6"
      }
    },
    {
      "cell_type": "code",
      "source": [
        "import scipy.stats as stats\n",
        "\n",
        "# Example data for click-through rates\n",
        "layout_a_clicks = [10, 12, 15, 11, 13] # Added example data\n",
        "layout_b_clicks = [15, 17, 14, 16, 18] # Added example data\n",
        "\n",
        "# Perform independent t-test\n",
        "t_statistic, p_value = stats.ttest_ind(layout_a_clicks, layout_b_clicks)\n",
        "\n",
        "# Set significance level\n",
        "alpha = 0.05\n",
        "\n",
        "# Compare p-value with alpha\n",
        "if p_value < alpha:\n",
        "    print(\"Reject the null hypothesis. There is a significant difference in click-through rates.\")\n",
        "else:\n",
        "    print(\"Fail to reject the null hypothesis. There is no significant difference in click-through rates.\")"
      ],
      "metadata": {
        "colab": {
          "base_uri": "https://localhost:8080/"
        },
        "id": "OHnUOd2VLDhK",
        "outputId": "bf11ce32-66e2-4dad-c634-423c584aa1fa"
      },
      "execution_count": 19,
      "outputs": [
        {
          "output_type": "stream",
          "name": "stdout",
          "text": [
            "Reject the null hypothesis. There is a significant difference in click-through rates.\n"
          ]
        }
      ]
    },
    {
      "cell_type": "markdown",
      "source": [
        "Q16)"
      ],
      "metadata": {
        "id": "yk4ORmseLGdg"
      }
    },
    {
      "cell_type": "code",
      "source": [
        "import scipy.stats as stats\n",
        "\n",
        "# Example data for cholesterol levels\n",
        "existing_drug_levels = [150, 140, 130, 145, 155] # Added example data\n",
        "new_drug_levels = [120, 110, 115, 125, 130] # Added example data\n",
        "\n",
        "# Perform independent t-test\n",
        "t_statistic, p_value = stats.ttest_ind(existing_drug_levels, new_drug_levels, alternative='greater')\n",
        "\n",
        "# Set significance level\n",
        "alpha = 0.05\n",
        "\n",
        "# Compare p-value with alpha\n",
        "if p_value < alpha:\n",
        "    print(\"Reject the null hypothesis. The new drug is more effective in reducing cholesterol levels.\")\n",
        "else:\n",
        "    print(\"Fail to reject the null hypothesis. There is no significant difference in cholesterol levels.\")"
      ],
      "metadata": {
        "colab": {
          "base_uri": "https://localhost:8080/"
        },
        "id": "EXaCETfZLP3l",
        "outputId": "59cd85a3-98d7-4cf6-848d-9b99ca142fe9"
      },
      "execution_count": 21,
      "outputs": [
        {
          "output_type": "stream",
          "name": "stdout",
          "text": [
            "Reject the null hypothesis. The new drug is more effective in reducing cholesterol levels.\n"
          ]
        }
      ]
    },
    {
      "cell_type": "markdown",
      "source": [
        "Q17)"
      ],
      "metadata": {
        "id": "qu0KYKK7LRMw"
      }
    },
    {
      "cell_type": "code",
      "source": [
        "import scipy.stats as stats\n",
        "\n",
        "# Example data for math scores before and after intervention\n",
        "pre_intervention_scores = [60, 65, 70, 75, 80] # Added example data for pre intervention scores\n",
        "post_intervention_scores = [70, 75, 80, 85, 90] # Added example data for post intervention scores\n",
        "\n",
        "# Perform paired t-test\n",
        "t_statistic, p_value = stats.ttest_rel(pre_intervention_scores, post_intervention_scores)\n",
        "\n",
        "# Set significance level\n",
        "alpha = 0.05\n",
        "\n",
        "# Compare p-value with alpha\n",
        "if p_value < alpha:\n",
        "    print(\"Reject the null hypothesis. The intervention had a significant impact on math scores.\")\n",
        "else:\n",
        "    print(\"Fail to reject the null hypothesis. There is no significant difference in math scores.\")"
      ],
      "metadata": {
        "colab": {
          "base_uri": "https://localhost:8080/"
        },
        "id": "g-nDeqYXLcqm",
        "outputId": "e00b1140-b374-4b63-804d-3ed7f66e8194"
      },
      "execution_count": 23,
      "outputs": [
        {
          "output_type": "stream",
          "name": "stdout",
          "text": [
            "Reject the null hypothesis. The intervention had a significant impact on math scores.\n"
          ]
        },
        {
          "output_type": "stream",
          "name": "stderr",
          "text": [
            "/usr/local/lib/python3.10/dist-packages/scipy/stats/_axis_nan_policy.py:531: RuntimeWarning: Precision loss occurred in moment calculation due to catastrophic cancellation. This occurs when the data are nearly identical. Results may be unreliable.\n",
            "  res = hypotest_fun_out(*samples, **kwds)\n"
          ]
        }
      ]
    },
    {
      "cell_type": "markdown",
      "source": [
        "Q18)"
      ],
      "metadata": {
        "id": "z585Of_FLefN"
      }
    },
    {
      "cell_type": "code",
      "source": [
        "import scipy.stats as stats\n",
        "\n",
        "# Example data for male and female salaries\n",
        "male_salaries = [60000, 65000, 70000, 75000, 80000] # Added example data for male salaries\n",
        "female_salaries = [55000, 60000, 65000, 70000, 75000] # Added example data for female salaries\n",
        "\n",
        "# Perform independent t-test\n",
        "t_statistic, p_value = stats.ttest_ind(male_salaries, female_salaries)\n",
        "\n",
        "# Set significance level\n",
        "alpha = 0.05\n",
        "\n",
        "# Compare p-value with alpha\n",
        "if p_value < alpha:\n",
        "    print(\"Reject the null hypothesis. There is a significant gender-based salary gap.\")\n",
        "else:\n",
        "    print(\"Fail to reject the null hypothesis. There is no significant gender-based salary gap.\")"
      ],
      "metadata": {
        "colab": {
          "base_uri": "https://localhost:8080/"
        },
        "id": "344S0oHpL4js",
        "outputId": "cbfd35b1-353c-4a1a-b8b1-ee1c471f78b5"
      },
      "execution_count": 25,
      "outputs": [
        {
          "output_type": "stream",
          "name": "stdout",
          "text": [
            "Fail to reject the null hypothesis. There is no significant gender-based salary gap.\n"
          ]
        }
      ]
    },
    {
      "cell_type": "markdown",
      "source": [
        "Q19)"
      ],
      "metadata": {
        "id": "VxtDCjUfL58w"
      }
    },
    {
      "cell_type": "code",
      "source": [
        "import scipy.stats as stats\n",
        "\n",
        "# Example data for version 1 and version 2 quality scores\n",
        "version1_scores = [70, 75, 80, 85, 90] # Added example data for version 1\n",
        "version2_scores = [65, 70, 75, 80, 85] # Added example data for version 2\n",
        "\n",
        "\n",
        "# Perform independent t-test\n",
        "t_statistic, p_value = stats.ttest_ind(version1_scores, version2_scores)\n",
        "\n",
        "# Set significance level\n",
        "alpha = 0.05\n",
        "\n",
        "# Compare p-value with alpha\n",
        "if p_value < alpha:\n",
        "    print(\"Reject the null hypothesis. There is a significant difference in quality scores.\")\n",
        "else:\n",
        "    print(\"Fail to reject the null hypothesis. There is no significant difference in quality scores.\")"
      ],
      "metadata": {
        "colab": {
          "base_uri": "https://localhost:8080/"
        },
        "id": "e3A4HVI5L-r0",
        "outputId": "fcf5fffc-ac37-4724-d7d8-1091f5c6a407"
      },
      "execution_count": 27,
      "outputs": [
        {
          "output_type": "stream",
          "name": "stdout",
          "text": [
            "Fail to reject the null hypothesis. There is no significant difference in quality scores.\n"
          ]
        }
      ]
    },
    {
      "cell_type": "markdown",
      "source": [
        "Q20)"
      ],
      "metadata": {
        "id": "Ig8eqp2uMC-M"
      }
    },
    {
      "cell_type": "code",
      "source": [
        "import scipy.stats as stats\n",
        "\n",
        "# Example data for branch A and branch B customer satisfaction scores\n",
        "branch_a_scores = [80, 85, 90, 95, 100] # Added example data for branch A\n",
        "branch_b_scores = [75, 80, 85, 90, 95] # Added example data for branch B\n",
        "\n",
        "# Perform independent t-test\n",
        "t_statistic, p_value = stats.ttest_ind(branch_a_scores, branch_b_scores)\n",
        "\n",
        "# Set significance level\n",
        "alpha = 0.05\n",
        "\n",
        "# Compare p-value with alpha\n",
        "if p_value < alpha:\n",
        "    print(\"Reject the null hypothesis. There is a significant difference in customer satisfaction scores.\")\n",
        "else:\n",
        "    print(\"Fail to reject the null hypothesis. There is no significant difference in customer satisfaction scores.\")"
      ],
      "metadata": {
        "colab": {
          "base_uri": "https://localhost:8080/"
        },
        "id": "uKYTJyAaMJ8u",
        "outputId": "a8dd5c54-8749-44c6-96ed-2dfe0c4a517b"
      },
      "execution_count": 29,
      "outputs": [
        {
          "output_type": "stream",
          "name": "stdout",
          "text": [
            "Fail to reject the null hypothesis. There is no significant difference in customer satisfaction scores.\n"
          ]
        }
      ]
    },
    {
      "cell_type": "markdown",
      "source": [
        "Q21)"
      ],
      "metadata": {
        "id": "D0MPohGJMbTk"
      }
    },
    {
      "cell_type": "code",
      "source": [
        "import scipy.stats as stats\n",
        "import pandas as pd # Import the pandas module\n",
        "\n",
        "# Example data for age groups and voter preferences\n",
        "age_groups = ['18-24', '25-34', '35-44', '45-54', '55+'] # Example age groups\n",
        "voter_preferences = ['Candidate A', 'Candidate B', 'Candidate C'] # Example voter preferences\n",
        "\n",
        "# Create some example data for the contingency table\n",
        "data = {'Age Group': ['18-24', '25-34', '35-44', '45-54', '55+', '18-24', '25-34', '35-44', '45-54', '55+'],\n",
        "        'Voter Preference': ['Candidate A', 'Candidate B', 'Candidate C', 'Candidate A', 'Candidate B', 'Candidate C', 'Candidate A', 'Candidate B', 'Candidate A', 'Candidate B']}\n",
        "df = pd.DataFrame(data)\n",
        "\n",
        "# Create a contingency table\n",
        "contingency_table = pd.crosstab(df['Age Group'], df['Voter Preference'])\n",
        "\n",
        "# Perform Chi-Square test\n",
        "chi2_stat, p_value, _, _ = stats.chi2_contingency(contingency_table)\n",
        "\n",
        "# Set significance level\n",
        "alpha = 0.05\n",
        "\n",
        "# Compare p-value with alpha\n",
        "if p_value < alpha:\n",
        "    print(\"Reject the null hypothesis. There is a significant association between age groups and voter preferences.\")\n",
        "else:\n",
        "    print(\"Fail to reject the null hypothesis. There is no significant association between age groups and voter preferences.\")"
      ],
      "metadata": {
        "colab": {
          "base_uri": "https://localhost:8080/"
        },
        "id": "QFSZK-yrMt5-",
        "outputId": "8ddcc6b3-dc0e-4c7a-c397-b507a9fdb9d7"
      },
      "execution_count": 31,
      "outputs": [
        {
          "output_type": "stream",
          "name": "stdout",
          "text": [
            "Fail to reject the null hypothesis. There is no significant association between age groups and voter preferences.\n"
          ]
        }
      ]
    },
    {
      "cell_type": "markdown",
      "source": [
        "Q22)"
      ],
      "metadata": {
        "id": "2Hg-b1zTMyYm"
      }
    },
    {
      "cell_type": "code",
      "source": [
        "import scipy.stats as stats\n",
        "import pandas as pd\n",
        "\n",
        "# Example data for age groups and voter preferences\n",
        "age_groups = ['18-24', '25-34', '35-44', '45-54', '55+'] # Example age groups\n",
        "voter_preferences = ['Candidate A', 'Candidate B', 'Candidate C'] # Example voter preferences\n",
        "\n",
        "# Create some example data for the contingency table\n",
        "data = {'Age Group': ['18-24', '25-34', '35-44', '45-54', '55+', '18-24', '25-34', '35-44', '45-54', '55+'],\n",
        "        'Voter Preference': ['Candidate A', 'Candidate B', 'Candidate C', 'Candidate A', 'Candidate B', 'Candidate C', 'Candidate A', 'Candidate B', 'Candidate A', 'Candidate B']}\n",
        "df = pd.DataFrame(data)\n",
        "\n",
        "# Create a contingency table\n",
        "contingency_table = pd.crosstab(df['Age Group'], df['Voter Preference'])\n",
        "\n",
        "# Perform Chi-Square test\n",
        "# The contingency table is passed to the function\n",
        "chi2_stat, p_value, _, _ = stats.chi2_contingency(contingency_table)\n",
        "\n",
        "# Set significance level\n",
        "alpha = 0.05\n",
        "\n",
        "# Compare p-value with alpha\n",
        "if p_value < alpha:\n",
        "    print(\"Reject the null hypothesis. There is a significant relationship between product satisfaction levels and customer regions.\")\n",
        "else:\n",
        "    print(\"Fail to reject the null hypothesis. There is no significant relationship between product satisfaction levels and customer regions.\")"
      ],
      "metadata": {
        "colab": {
          "base_uri": "https://localhost:8080/"
        },
        "id": "FQTHcJoTNKi0",
        "outputId": "c7c05667-196f-447e-8201-b416e98d60fd"
      },
      "execution_count": 33,
      "outputs": [
        {
          "output_type": "stream",
          "name": "stdout",
          "text": [
            "Fail to reject the null hypothesis. There is no significant relationship between product satisfaction levels and customer regions.\n"
          ]
        }
      ]
    },
    {
      "cell_type": "markdown",
      "source": [
        "Q23)"
      ],
      "metadata": {
        "id": "D5l3PI8yNTzI"
      }
    },
    {
      "cell_type": "code",
      "source": [
        "import scipy.stats as stats\n",
        "import pandas as pd\n",
        "\n",
        "# Example data for age groups and voter preferences\n",
        "age_groups = ['18-24', '25-34', '35-44', '45-54', '55+'] # Example age groups\n",
        "voter_preferences = ['Candidate A', 'Candidate B', 'Candidate C'] # Example voter preferences\n",
        "\n",
        "# Create some example data for the contingency table\n",
        "data = {'Age Group': ['18-24', '25-34', '35-44', '45-54', '55+', '18-24', '25-34', '35-44', '45-54', '55+'],\n",
        "        'Voter Preference': ['Candidate A', 'Candidate B', 'Candidate C', 'Candidate A', 'Candidate B', 'Candidate C', 'Candidate A', 'Candidate B', 'Candidate A', 'Candidate B']}\n",
        "df = pd.DataFrame(data)\n",
        "\n",
        "# Create a contingency table\n",
        "contingency_table = pd.crosstab(df['Age Group'], df['Voter Preference'])\n",
        "\n",
        "# Perform Chi-Square test\n",
        "# Pass the contingency table to the function\n",
        "chi2_stat, p_value, _, _ = stats.chi2_contingency(contingency_table)\n",
        "\n",
        "# Set significance level\n",
        "alpha = 0.05\n",
        "\n",
        "# Compare p-value with alpha\n",
        "if p_value < alpha:\n",
        "    print(\"Reject the null hypothesis. There is a significant difference in job performance levels before and after the training.\")\n",
        "else:\n",
        "    print(\"Fail to reject the null hypothesis. There is no significant difference in job performance levels before and after the training.\")"
      ],
      "metadata": {
        "colab": {
          "base_uri": "https://localhost:8080/"
        },
        "id": "-Tz_iN5GNq8J",
        "outputId": "c3781cb6-7524-440d-db6f-7db3d6bec96c"
      },
      "execution_count": 35,
      "outputs": [
        {
          "output_type": "stream",
          "name": "stdout",
          "text": [
            "Fail to reject the null hypothesis. There is no significant difference in job performance levels before and after the training.\n"
          ]
        }
      ]
    },
    {
      "cell_type": "markdown",
      "source": [],
      "metadata": {
        "id": "jNZiJJxNOYrd"
      }
    },
    {
      "cell_type": "markdown",
      "source": [
        "Q24)"
      ],
      "metadata": {
        "id": "xvtkb2p9NyyV"
      }
    },
    {
      "cell_type": "code",
      "source": [
        "import scipy.stats as stats\n",
        "import numpy as np # Import the NumPy library\n",
        "\n",
        "# Example data for customer satisfaction scores (replace with your actual data)\n",
        "standard_scores = np.random.rand(10)  # Example data for standard version\n",
        "premium_scores = np.random.rand(10)   # Example data for premium version\n",
        "deluxe_scores = np.random.rand(10)    # Example data for deluxe version\n",
        "\n",
        "# Combine the scores into a single array\n",
        "all_scores = np.concatenate([standard_scores, premium_scores, deluxe_scores])\n",
        "\n",
        "# Create a group indicator variable\n",
        "groups = np.repeat([0, 1, 2], 10)  # Assuming 10 samples per group\n",
        "\n",
        "# Perform ANOVA test\n",
        "f_statistic, p_value = stats.f_oneway(all_scores[groups == 0], all_scores[groups == 1], all_scores[groups == 2])\n",
        "\n",
        "# Set significance level\n",
        "alpha = 0.05\n",
        "\n",
        "# Compare p-value with alpha\n",
        "if p_value < alpha:\n",
        "    print(\"Reject the null hypothesis. There is a significant difference in customer satisfaction scores among the three product versions.\")\n",
        "else:\n",
        "    print(\"Fail to reject the null hypothesis. There is no significant difference in customer satisfaction scores among the three product versions.\")"
      ],
      "metadata": {
        "colab": {
          "base_uri": "https://localhost:8080/"
        },
        "id": "b6HBBqpjN7_R",
        "outputId": "cd646cfb-c919-4bf0-c639-41838cf7cbfb"
      },
      "execution_count": 37,
      "outputs": [
        {
          "output_type": "stream",
          "name": "stdout",
          "text": [
            "Fail to reject the null hypothesis. There is no significant difference in customer satisfaction scores among the three product versions.\n"
          ]
        }
      ]
    },
    {
      "cell_type": "code",
      "source": [],
      "metadata": {
        "id": "fgT6xfZXOPqw"
      },
      "execution_count": null,
      "outputs": []
    }
  ]
}